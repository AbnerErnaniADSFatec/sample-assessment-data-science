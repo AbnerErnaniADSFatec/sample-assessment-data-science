{
 "cells": [
  {
   "cell_type": "markdown",
   "id": "c8eb7bad-7915-4e5d-a187-f1510dd0804c",
   "metadata": {},
   "source": [
    "# Classification of land use and land cover by time series analysis"
   ]
  },
  {
   "cell_type": "code",
   "execution_count": 2,
   "id": "94b9eec2-e556-4b7a-878d-ecfe25bdf221",
   "metadata": {},
   "outputs": [],
   "source": []
  },
  {
   "cell_type": "code",
   "execution_count": 3,
   "id": "a1cc85ff-7ce3-4e09-af54-0442726d1608",
   "metadata": {},
   "outputs": [],
   "source": []
  },
  {
   "cell_type": "code",
   "execution_count": 4,
   "id": "52724ace-9456-4067-b315-9252ef612387",
   "metadata": {},
   "outputs": [],
   "source": []
  },
  {
   "cell_type": "code",
   "execution_count": 7,
   "id": "ff6ff868-e9ce-4fbf-8011-033e5e63f645",
   "metadata": {},
   "outputs": [
    {
     "data": {
      "text/html": [
       "<table class=\"dataframe\">\n",
       "<caption>A sits: 5 × 6</caption>\n",
       "<thead>\n",
       "\t<tr><th scope=col>longitude</th><th scope=col>latitude</th><th scope=col>start_date</th><th scope=col>end_date</th><th scope=col>label</th><th scope=col>cube</th></tr>\n",
       "\t<tr><th scope=col>&lt;dbl&gt;</th><th scope=col>&lt;dbl&gt;</th><th scope=col>&lt;date&gt;</th><th scope=col>&lt;date&gt;</th><th scope=col>&lt;chr&gt;</th><th scope=col>&lt;chr&gt;</th></tr>\n",
       "</thead>\n",
       "<tbody>\n",
       "\t<tr><td>-64.69448</td><td> -9.986312</td><td>2018-07-12</td><td>2019-07-28</td><td>Deforestation</td><td>sentinel-077095</td></tr>\n",
       "\t<tr><td>-64.62979</td><td> -9.996668</td><td>2018-07-12</td><td>2019-07-28</td><td>Deforestation</td><td>sentinel-077095</td></tr>\n",
       "\t<tr><td>-64.52163</td><td> -9.979772</td><td>2018-07-12</td><td>2019-07-28</td><td>Deforestation</td><td>sentinel-077095</td></tr>\n",
       "\t<tr><td>-64.52049</td><td>-10.003682</td><td>2018-07-12</td><td>2019-07-28</td><td>Deforestation</td><td>sentinel-077095</td></tr>\n",
       "\t<tr><td>-64.70766</td><td>-10.061506</td><td>2018-07-12</td><td>2019-07-28</td><td>Deforestation</td><td>sentinel-077095</td></tr>\n",
       "</tbody>\n",
       "</table>\n"
      ],
      "text/latex": [
       "A sits: 5 × 6\n",
       "\\begin{tabular}{llllll}\n",
       " longitude & latitude & start\\_date & end\\_date & label & cube\\\\\n",
       " <dbl> & <dbl> & <date> & <date> & <chr> & <chr>\\\\\n",
       "\\hline\n",
       "\t -64.69448 &  -9.986312 & 2018-07-12 & 2019-07-28 & Deforestation & sentinel-077095\\\\\n",
       "\t -64.62979 &  -9.996668 & 2018-07-12 & 2019-07-28 & Deforestation & sentinel-077095\\\\\n",
       "\t -64.52163 &  -9.979772 & 2018-07-12 & 2019-07-28 & Deforestation & sentinel-077095\\\\\n",
       "\t -64.52049 & -10.003682 & 2018-07-12 & 2019-07-28 & Deforestation & sentinel-077095\\\\\n",
       "\t -64.70766 & -10.061506 & 2018-07-12 & 2019-07-28 & Deforestation & sentinel-077095\\\\\n",
       "\\end{tabular}\n"
      ],
      "text/markdown": [
       "\n",
       "A sits: 5 × 6\n",
       "\n",
       "| longitude &lt;dbl&gt; | latitude &lt;dbl&gt; | start_date &lt;date&gt; | end_date &lt;date&gt; | label &lt;chr&gt; | cube &lt;chr&gt; |\n",
       "|---|---|---|---|---|---|\n",
       "| -64.69448 |  -9.986312 | 2018-07-12 | 2019-07-28 | Deforestation | sentinel-077095 |\n",
       "| -64.62979 |  -9.996668 | 2018-07-12 | 2019-07-28 | Deforestation | sentinel-077095 |\n",
       "| -64.52163 |  -9.979772 | 2018-07-12 | 2019-07-28 | Deforestation | sentinel-077095 |\n",
       "| -64.52049 | -10.003682 | 2018-07-12 | 2019-07-28 | Deforestation | sentinel-077095 |\n",
       "| -64.70766 | -10.061506 | 2018-07-12 | 2019-07-28 | Deforestation | sentinel-077095 |\n",
       "\n"
      ],
      "text/plain": [
       "  longitude latitude   start_date end_date   label         cube           \n",
       "1 -64.69448  -9.986312 2018-07-12 2019-07-28 Deforestation sentinel-077095\n",
       "2 -64.62979  -9.996668 2018-07-12 2019-07-28 Deforestation sentinel-077095\n",
       "3 -64.52163  -9.979772 2018-07-12 2019-07-28 Deforestation sentinel-077095\n",
       "4 -64.52049 -10.003682 2018-07-12 2019-07-28 Deforestation sentinel-077095\n",
       "5 -64.70766 -10.061506 2018-07-12 2019-07-28 Deforestation sentinel-077095"
      ]
     },
     "metadata": {},
     "output_type": "display_data"
    }
   ],
   "source": [
    "input_data.tb <- read_file(\"./data/ts_coupled_samples/samples_amazonia_sentinel-2.rda\", \"rda\")\n",
    "head(dplyr::select(input_data.tb, -time_series), 5)"
   ]
  },
  {
   "cell_type": "code",
   "execution_count": 8,
   "id": "c5fff591-3c40-450e-afb8-49df39b7eed1",
   "metadata": {},
   "outputs": [],
   "source": [
    "set.seed(42)\n",
    "data.tb <- input_data.tb\n",
    "rows <- sample(nrow(data.tb))\n",
    "diamonds <- data.tb[rows, ]\n",
    "data.tb <- diamonds"
   ]
  },
  {
   "cell_type": "code",
   "execution_count": 9,
   "id": "f227e222-bb7a-42c9-b666-91a879413614",
   "metadata": {},
   "outputs": [
    {
     "data": {
      "text/html": [
       "<table class=\"dataframe\">\n",
       "<caption>A data.frame: 4 × 3</caption>\n",
       "<thead>\n",
       "\t<tr><th scope=col>label</th><th scope=col>n</th><th scope=col>percent</th></tr>\n",
       "\t<tr><th scope=col>&lt;chr&gt;</th><th scope=col>&lt;int&gt;</th><th scope=col>&lt;dbl&gt;</th></tr>\n",
       "</thead>\n",
       "<tbody>\n",
       "\t<tr><td>Deforestation</td><td>157</td><td>0.1306156</td></tr>\n",
       "\t<tr><td>Forest       </td><td>414</td><td>0.3444260</td></tr>\n",
       "\t<tr><td>NatNonForest </td><td>171</td><td>0.1422629</td></tr>\n",
       "\t<tr><td>Pasture      </td><td>460</td><td>0.3826955</td></tr>\n",
       "</tbody>\n",
       "</table>\n"
      ],
      "text/latex": [
       "A data.frame: 4 × 3\n",
       "\\begin{tabular}{lll}\n",
       " label & n & percent\\\\\n",
       " <chr> & <int> & <dbl>\\\\\n",
       "\\hline\n",
       "\t Deforestation & 157 & 0.1306156\\\\\n",
       "\t Forest        & 414 & 0.3444260\\\\\n",
       "\t NatNonForest  & 171 & 0.1422629\\\\\n",
       "\t Pasture       & 460 & 0.3826955\\\\\n",
       "\\end{tabular}\n"
      ],
      "text/markdown": [
       "\n",
       "A data.frame: 4 × 3\n",
       "\n",
       "| label &lt;chr&gt; | n &lt;int&gt; | percent &lt;dbl&gt; |\n",
       "|---|---|---|\n",
       "| Deforestation | 157 | 0.1306156 |\n",
       "| Forest        | 414 | 0.3444260 |\n",
       "| NatNonForest  | 171 | 0.1422629 |\n",
       "| Pasture       | 460 | 0.3826955 |\n",
       "\n"
      ],
      "text/plain": [
       "  label         n   percent  \n",
       "1 Deforestation 157 0.1306156\n",
       "2 Forest        414 0.3444260\n",
       "3 NatNonForest  171 0.1422629\n",
       "4 Pasture       460 0.3826955"
      ]
     },
     "metadata": {},
     "output_type": "display_data"
    }
   ],
   "source": [
    "group <- dplyr::group_by(data.tb, label)\n",
    "agregation <- dplyr::summarise(group, n = n(), .groups = \"drop_last\")\n",
    "mutation <- dplyr::mutate(agregation, percent = n/sum(n))\n",
    "mutation <- data.frame(mutation)\n",
    "mutation"
   ]
  }
 ],
 "metadata": {
  "kernelspec": {
   "display_name": "sample-assessment",
   "language": "R",
   "name": "r3"
  },
  "language_info": {
   "codemirror_mode": "r",
   "file_extension": ".r",
   "mimetype": "text/x-r-source",
   "name": "R",
   "pygments_lexer": "r",
   "version": "4.0.5"
  }
 },
 "nbformat": 4,
 "nbformat_minor": 5
}
